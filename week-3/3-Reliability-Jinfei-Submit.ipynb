{
 "cells": [
  {
   "cell_type": "markdown",
   "metadata": {},
   "source": [
    "# Week 3 - Sampling & Reliability\n"
   ]
  },
  {
   "cell_type": "code",
   "execution_count": 1,
   "metadata": {},
   "outputs": [],
   "source": [
    "#Special module written for this class\n",
    "#This provides access to data and to helper functions from previous weeks\n",
    "#Make sure you update it before starting this notebook\n",
    "import lucem_illud #pip install -U git+git://github.com/UChicago-Computational-Content-Analysis/lucem_illud.git\n",
    "\n",
    "#All these packages need to be installed from pip\n",
    "import numpy as np #For arrays\n",
    "import scipy as sp #For some stats\n",
    "import pandas #Gives us DataFrames\n",
    "import matplotlib.pyplot as plt #For graphics\n",
    "import seaborn #Makes the graphics look nicer\n",
    "import pyanno #On python3 make sure to pip install pyanno3\n",
    "\n",
    "#We need to import these this way due to how pyanno is setup\n",
    "from pyanno.measures import pairwise_matrix, agreement, cohens_kappa, cohens_weighted_kappa, fleiss_kappa, krippendorffs_alpha, pearsons_rho, scotts_pi, spearmans_rho\n",
    "from pyanno.annotations import AnnotationsContainer\n",
    "from pyanno.models import ModelA, ModelBt, ModelB\n",
    "\n",
    "from functools import reduce\n",
    "from itertools import permutations\n",
    "import math\n",
    "\n",
    "\n",
    "#This 'magic' command makes the plots work better\n",
    "#in the notebook, don't use it outside of a notebook.\n",
    "#Also you can ignore the warning\n",
    "%matplotlib inline\n",
    "\n",
    "import os #For looking through files\n",
    "import os.path #For managing file paths"
   ]
  },
  {
   "cell_type": "markdown",
   "metadata": {},
   "source": [
    "## <span style=\"color:red\">*Pitch the Domain of your Project*</span>\n",
    "\n",
    "<span style=\"color:red\">In the two cells immediately following, describe **WHAT** you are planning to analyze for your final project (i.e., texts, contexts and the social game, world and actors you intend to learn about through your analysis) (<200 words) and **WHY** you are going to do it (i.e., why would theory and/or the average person benefit from knowing the results of your investigation) (<200 words)? [**Note**: your individual or collective project can change over the course of the quarter if new data and/or analysis opportunities arise or if old ones fade away.]"
   ]
  },
  {
   "cell_type": "markdown",
   "metadata": {},
   "source": [
    "## ***What?*** \n",
    "\n",
    "My Research Questions:\n",
    "What's the most frequent concern of personal finance? Is there a heterogeineity among different groups? Does the topics of these concerns change over time?\n",
    "\n",
    "Corpora:\n",
    "\n",
    "* Reddit Articles in subreddit [Personal Finance](https://www.reddit.com/r/personalfinance/)\n",
    "\n",
    "\n",
    "Social Game:\n",
    "\n",
    "Consumption and investment are two import social indicators in economics. So, I would like to study people's consumption and behavior by their online postings.\n",
    "\n",
    "\n",
    "Actors:\n",
    "\n",
    "Most people who post articles on Reddit are young people, many of them are 20-30 (many of them reveal their age in posts) and it's interesting to learn the consumption and investment patterns of these young people.\n",
    "\n",
    "\n",
    "World:\n",
    "\n",
    "A large group of anxious young people--we can find students who just got their first job start to consider paying back student loan, buying houses/cars, taking care of aging parents, for the first time in their life. They ask advice from others on online platform to make finance-wise decisions.\n",
    "\n",
    "\n"
   ]
  },
  {
   "cell_type": "markdown",
   "metadata": {},
   "source": [
    "## ***Why?***\n",
    "\n",
    "In the most widely used fomula in Macroeconomics: Y = C + I + G + NX \n",
    "(Total economic output = Consumption + Investment + Government spending + Net Export), consuption and investment are individual activities that constitute of our society. \n",
    "\n",
    "A [Federal Reserve survey](https://www.google.com/url?sa=t&rct=j&q=&esrc=s&source=web&cd=&cad=rja&uact=8&ved=2ahUKEwiB6O2fhs3uAhXQXc0KHbeLAXUQFjAAegQIARAC&url=https%3A%2F%2Fwww.federalreserve.gov%2Fpublications%2Ffiles%2F2017-report-economic-well-being-us-households-201805.pdf&usg=AOvVaw33ULJILWvmE0JU8Dweye4R)  finds almost 40% of American adults wouldn't be able to cover a $400 emergency with cash, savings or a credit-card charge that they could quickly pay off. Why do people in the United States, the most powerful country in the world, face this problem? What's the heaviest financial burden on people? Where is the money going? What are the topics that people who seek financial security talks every day? To answer these questions, we can analyze people's posting online.\n",
    "\n",
    "**The benefits people can get after they learn the results of my study**\n",
    "\n",
    "My study will report the most common financial burden on people, and the time trend of the changes most-discussed topics. So people can know what bothers us and if the things that bother us change over time.\n",
    "\n"
   ]
  },
  {
   "cell_type": "markdown",
   "metadata": {},
   "source": [
    "## <span style=\"color:red\">*Pitch Your Sample*</span>\n",
    "\n",
    "<span style=\"color:red\">In the cell immediately following, describe the rationale behind your proposed sample design for your final project. What is the social game, social work, or social actors about whom you are seeking to make inferences? What are its virtues with respect to your research questions? What are its limitations? What are alternatives? What would be a reasonable path to \"scale up\" your sample for further analysis (i.e., high-profile publication)? (<200 words)."
   ]
  },
  {
   "cell_type": "markdown",
   "metadata": {},
   "source": [
    "**The rationale behind my proposed sample design**\n",
    "Collect data from online [financial discussion forums](https://www.doughroller.net/personal-finance/8-awesome-online-forums-personal-finance-investing/): Reddit-Personal Finance, myFICO Forums, YNAB Forums, Morningstar Forums, Reddit–Investing, and Bogleheads Forum. My sample will include the first four datasets.\n",
    "\n",
    "**Social Game:**\n",
    "People's income and financial concern.\n",
    "\n",
    "**Social Actors:**\n",
    "Online financial websites users: people who post their concern, seek for advice, or share personal experience.\n",
    "\n",
    "**Its virtues with respect to my research questions:**\n",
    "People's online discussion is a reflect of their real-life concern\n",
    "\n",
    "**Limitations:**\n",
    "Generalization Bias--most users of online platforms are young people who are used to the internet. Middle-age people may not be willing to disclose their financial concerns online.\n",
    "\n",
    "**Alternatives:**\n",
    "Other discussion websites.\n",
    "\n",
    "**Methods to scale up my sample:**\n",
    "I can boarden my dataset by scale up the time peorid to include more aticles from myFICO Forums, YNAB Forums, Morningstar Forums, Reddit–Investing, Bogleheads Forum, Fat Wallet Forums, and Bigger Pockets Forum."
   ]
  },
  {
   "cell_type": "markdown",
   "metadata": {},
   "source": [
    "## <span style=\"color:red\">*Your turn*</span>\n",
    "\n",
    "<span style=\"color:red\">Perform a content annotation survey of some kind in which at least 3 people evaluate and code each piece of content, using Amazon Mechanical Turk as described in the MTurk slides in the Assignment link on Canvas, or by hand with friends.  With the resulting data, calculate, visualize and discuss inter-coder agreement or covariation with appropriate metrics. What does this means for the reliability of human assessments regarding content in your domain?"
   ]
  },
  {
   "cell_type": "markdown",
   "metadata": {},
   "source": [
    "**Survey Question**: Please annotation for the degree of urgent financial problems for postings from different financial websites\n",
    "\n",
    "**Answer Scale**: from 1 (not urgent at all) to 5(extremely urgent)\n",
    "\n",
    "**Number of texts**: 6 pieces of text from 6 different online financial websites: Reddit-PersonalFinance, myFico, YNAB, Morningstar, Reddit–Investing, Bogleheads Forum\n",
    "\n",
    "**Survey Link**: https://forms.gle/NNGbDSaXgvkaxHJu9\n",
    "\n",
    "(I used Google Form and my personal network to collect data instead of MTurk--some budget problem...)\n",
    "\n",
    "**Number of Responses**: 8"
   ]
  },
  {
   "cell_type": "code",
   "execution_count": 2,
   "metadata": {},
   "outputs": [],
   "source": [
    "x = np.loadtxt(\"annotation-personalfinance.txt\")\n",
    "anno = AnnotationsContainer.from_array(x, missing_values=[-1])"
   ]
  },
  {
   "cell_type": "code",
   "execution_count": 3,
   "metadata": {},
   "outputs": [
    {
     "data": {
      "text/plain": [
       "array([[4, 0, 3, 0, 1, 2],\n",
       "       [3, 0, 4, 1, 3, 4],\n",
       "       [3, 1, 4, 0, 2, 3],\n",
       "       [4, 2, 4, 0, 2, 3],\n",
       "       [4, 1, 4, 0, 1, 3],\n",
       "       [4, 0, 4, 0, 1, 2],\n",
       "       [3, 0, 3, 0, 1, 3],\n",
       "       [4, 1, 3, 2, 3, 3]])"
      ]
     },
     "execution_count": 3,
     "metadata": {},
     "output_type": "execute_result"
    }
   ],
   "source": [
    "anno.annotations"
   ]
  },
  {
   "cell_type": "code",
   "execution_count": 4,
   "metadata": {},
   "outputs": [
    {
     "data": {
      "text/plain": [
       "[1.0, 2.0, 3.0, 4.0, 5.0]"
      ]
     },
     "execution_count": 4,
     "metadata": {},
     "output_type": "execute_result"
    }
   ],
   "source": [
    "anno.labels"
   ]
  },
  {
   "cell_type": "markdown",
   "metadata": {},
   "source": [
    "Because all questions are required in my questionaires. There is no missing value."
   ]
  },
  {
   "cell_type": "code",
   "execution_count": 5,
   "metadata": {},
   "outputs": [
    {
     "data": {
      "text/plain": [
       "[]"
      ]
     },
     "execution_count": 5,
     "metadata": {},
     "output_type": "execute_result"
    }
   ],
   "source": [
    "anno.missing_values"
   ]
  },
  {
   "cell_type": "markdown",
   "metadata": {},
   "source": [
    "First, we can look at the label frequencies. Opinions are extreme--the lease people choose to use scale '3'. It's also a little left skewed: more people choose higher urgency level"
   ]
  },
  {
   "cell_type": "code",
   "execution_count": 6,
   "metadata": {},
   "outputs": [
    {
     "data": {
      "text/plain": [
       "array([0.20833333, 0.16666667, 0.125     , 0.27083333, 0.22916667])"
      ]
     },
     "execution_count": 6,
     "metadata": {},
     "output_type": "execute_result"
    }
   ],
   "source": [
    "pyanno.measures.agreement.labels_frequency(anno.annotations,4)"
   ]
  },
  {
   "cell_type": "markdown",
   "metadata": {},
   "source": [
    "We can compare the responces of the first and the second respondents to see if they are similar:"
   ]
  },
  {
   "cell_type": "code",
   "execution_count": 7,
   "metadata": {},
   "outputs": [
    {
     "data": {
      "text/plain": [
       "array([[4, 0, 3, 0, 1, 2],\n",
       "       [3, 0, 4, 1, 3, 4],\n",
       "       [3, 1, 4, 0, 2, 3],\n",
       "       [4, 2, 4, 0, 2, 3],\n",
       "       [4, 1, 4, 0, 1, 3],\n",
       "       [4, 0, 4, 0, 1, 2],\n",
       "       [3, 0, 3, 0, 1, 3],\n",
       "       [4, 1, 3, 2, 3, 3]])"
      ]
     },
     "execution_count": 7,
     "metadata": {},
     "output_type": "execute_result"
    }
   ],
   "source": [
    "anno.annotations"
   ]
  },
  {
   "cell_type": "code",
   "execution_count": 8,
   "metadata": {},
   "outputs": [
    {
     "data": {
      "text/plain": [
       "array([4, 0, 3, 0, 1, 2])"
      ]
     },
     "execution_count": 8,
     "metadata": {},
     "output_type": "execute_result"
    }
   ],
   "source": [
    "anno.annotations[0,:]"
   ]
  },
  {
   "cell_type": "code",
   "execution_count": 9,
   "metadata": {},
   "outputs": [
    {
     "data": {
      "text/plain": [
       "array([4, 0, 4, 0, 1, 2])"
      ]
     },
     "execution_count": 9,
     "metadata": {},
     "output_type": "execute_result"
    }
   ],
   "source": [
    "anno.annotations[5,:]"
   ]
  },
  {
   "cell_type": "code",
   "execution_count": 10,
   "metadata": {},
   "outputs": [
    {
     "name": "stdout",
     "output_type": "stream",
     "text": [
      "[[0. 0. 0. 0. 0.]\n",
      " [0. 0. 0. 0. 0.]\n",
      " [0. 0. 0. 0. 0.]\n",
      " [2. 1. 0. 0. 0.]\n",
      " [2. 2. 1. 0. 0.]]\n"
     ]
    },
    {
     "data": {
      "image/png": "[encoded data removed]",
      "text/plain": [
       "<Figure size 432x288 with 2 Axes>"
      ]
     },
     "metadata": {
      "needs_background": "light"
     },
     "output_type": "display_data"
    }
   ],
   "source": [
    "c = pyanno.measures.agreement.confusion_matrix(anno.annotations[:,0], anno.annotations[:,1],5)\n",
    "print(c)\n",
    "ac = seaborn.heatmap(c)\n",
    "plt.show()"
   ]
  },
  {
   "cell_type": "markdown",
   "metadata": {},
   "source": [
    "In this map, we can find that these two coders hold relatively different opinions. They got different answers for the same questions. We can also calculate  Scott's $\\pi$ of these two coders and  Fleiss' $\\kappa$ of all coders."
   ]
  },
  {
   "cell_type": "code",
   "execution_count": 11,
   "metadata": {},
   "outputs": [
    {
     "data": {
      "text/plain": [
       "-0.30612244897959184"
      ]
     },
     "execution_count": 11,
     "metadata": {},
     "output_type": "execute_result"
    }
   ],
   "source": [
    "scotts_pi(anno.annotations[:,0], anno.annotations[:,1])"
   ]
  },
  {
   "cell_type": "code",
   "execution_count": 12,
   "metadata": {},
   "outputs": [
    {
     "data": {
      "text/plain": [
       "-0.09018743109151048"
      ]
     },
     "execution_count": 12,
     "metadata": {},
     "output_type": "execute_result"
    }
   ],
   "source": [
    "fleiss_kappa(anno.annotations[::])"
   ]
  },
  {
   "cell_type": "markdown",
   "metadata": {},
   "source": [
    "These numbers are negatives--providing further proof that coders are different. Because our annotations are ordinal, we can calculate Krippendorff's $\\alpha$. It's also negative."
   ]
  },
  {
   "cell_type": "code",
   "execution_count": 13,
   "metadata": {},
   "outputs": [
    {
     "data": {
      "text/plain": [
       "-0.10178320977759991"
      ]
     },
     "execution_count": 13,
     "metadata": {},
     "output_type": "execute_result"
    }
   ],
   "source": [
    "krippendorffs_alpha(anno.annotations[::])"
   ]
  },
  {
   "cell_type": "markdown",
   "metadata": {},
   "source": [
    "If we take into account the possibility of the agreement occuring by chance, we can calculate Cohen's $\\kappa$"
   ]
  },
  {
   "cell_type": "code",
   "execution_count": 14,
   "metadata": {},
   "outputs": [
    {
     "data": {
      "text/plain": [
       "-0.10178320977759991"
      ]
     },
     "execution_count": 14,
     "metadata": {},
     "output_type": "execute_result"
    }
   ],
   "source": [
    "krippendorffs_alpha(anno.annotations[::])"
   ]
  },
  {
   "cell_type": "code",
   "execution_count": 15,
   "metadata": {},
   "outputs": [
    {
     "name": "stdout",
     "output_type": "stream",
     "text": [
      "[[ 1.          0.         -0.06666667  0.          0.03448276 -0.09090909]\n",
      " [ 0.          1.          0.         -0.11111111  0.04       -0.03225806]\n",
      " [-0.06666667  0.          1.          0.          0.03448276  0.09090909]\n",
      " [ 0.         -0.11111111  0.          1.         -0.10344828 -0.03225806]\n",
      " [ 0.03448276  0.04        0.03448276 -0.10344828  1.         -0.12      ]\n",
      " [-0.09090909 -0.03225806  0.09090909 -0.03225806 -0.12        1.        ]]\n"
     ]
    }
   ],
   "source": [
    "m = pairwise_matrix(cohens_kappa, anno.annotations)\n",
    "print(m)"
   ]
  },
  {
   "cell_type": "code",
   "execution_count": 16,
   "metadata": {},
   "outputs": [
    {
     "data": {
      "image/png": "[encoded data removed]",
      "text/plain": [
       "<Figure size 432x288 with 2 Axes>"
      ]
     },
     "metadata": {
      "needs_background": "light"
     },
     "output_type": "display_data"
    }
   ],
   "source": [
    "ax = seaborn.heatmap(m)\n",
    "plt.show()"
   ]
  },
  {
   "cell_type": "markdown",
   "metadata": {},
   "source": [
    "Because all questions are required, we can see this design is relatively stable.We can also assess the average Cohen's $\\kappa$ for all pairs of coders that have coded against one another:"
   ]
  },
  {
   "cell_type": "code",
   "execution_count": 17,
   "metadata": {},
   "outputs": [
    {
     "data": {
      "text/plain": [
       "-0.02378511102871503"
      ]
     },
     "execution_count": 17,
     "metadata": {},
     "output_type": "execute_result"
    }
   ],
   "source": [
    "def pairwise_metric_average(metric, array):\n",
    "    \"\"\"Calculate the pairwise metric average for the real elements of metric function run on an array of annotations\"\"\"\n",
    "    p = permutations(range(array[0,:].size),2)\n",
    "    m = [metric(array[:,x[0]], array[:,x[1]]) for x in p]\n",
    "    clean_m = [c for c in m if not math.isnan(c)]\n",
    "    return reduce(lambda a, b: a + b, clean_m)/len(clean_m)    \n",
    " \n",
    "pairwise_metric_average(cohens_kappa, anno.annotations)"
   ]
  },
  {
   "cell_type": "markdown",
   "metadata": {},
   "source": [
    "We can also calculate the weighted $\\kappa$ which allows us to count disagreements differently and because my codes are ordered."
   ]
  },
  {
   "cell_type": "code",
   "execution_count": 18,
   "metadata": {},
   "outputs": [
    {
     "data": {
      "text/plain": [
       "0.0"
      ]
     },
     "execution_count": 18,
     "metadata": {},
     "output_type": "execute_result"
    }
   ],
   "source": [
    "cohens_weighted_kappa(anno.annotations[:,0], anno.annotations[:,1])"
   ]
  },
  {
   "cell_type": "code",
   "execution_count": 19,
   "metadata": {},
   "outputs": [
    {
     "data": {
      "text/plain": [
       "0.0066076221148685015"
      ]
     },
     "execution_count": 19,
     "metadata": {},
     "output_type": "execute_result"
    }
   ],
   "source": [
    "pairwise_metric_average(cohens_weighted_kappa,anno.annotations)"
   ]
  },
  {
   "cell_type": "markdown",
   "metadata": {},
   "source": [
    "Weighted $\\kappa$ tells us that there is no agreement at all!  It says there is no agreement among the raters other than what would be expected by chance. This is hard to believe though... The reason could be that people have really different understanding of online languages."
   ]
  },
  {
   "cell_type": "code",
   "execution_count": 20,
   "metadata": {},
   "outputs": [
    {
     "data": {
      "image/png": "[encoded data removed]",
      "text/plain": [
       "<Figure size 432x288 with 2 Axes>"
      ]
     },
     "metadata": {
      "needs_background": "light"
     },
     "output_type": "display_data"
    },
    {
     "data": {
      "image/png": "[encoded data removed]",
      "text/plain": [
       "<Figure size 432x288 with 2 Axes>"
      ]
     },
     "metadata": {
      "needs_background": "light"
     },
     "output_type": "display_data"
    }
   ],
   "source": [
    "n = pairwise_matrix(pearsons_rho, anno.annotations)\n",
    "m = pairwise_matrix(spearmans_rho, anno.annotations)\n",
    "an = seaborn.heatmap(n)\n",
    "plt.show()\n",
    "am = seaborn.heatmap(m)\n",
    "plt.show()"
   ]
  },
  {
   "cell_type": "markdown",
   "metadata": {},
   "source": [
    "From the correlation of values (Pearson's $\\rho$) or correlation of ranks (Spearman's $\\rho$) for pairs of coders shown in the two plots above, we found many respondants are different. The averaged Pearson's $\\rho$ and Spearman's $\\rho$ over all comparable pairs are:"
   ]
  },
  {
   "cell_type": "code",
   "execution_count": 21,
   "metadata": {},
   "outputs": [
    {
     "name": "stdout",
     "output_type": "stream",
     "text": [
      "0.14877887269098622 0.16040438435769933\n"
     ]
    }
   ],
   "source": [
    "print(pairwise_metric_average(pearsons_rho,anno.annotations), pairwise_metric_average(spearmans_rho,anno.annotations))"
   ]
  },
  {
   "cell_type": "markdown",
   "metadata": {},
   "source": [
    "## <span style=\"color:red\">*Your turn*</span>\n",
    "\n",
    "<span style=\"color:red\">In the cells immediately following, use the results of your content annotation survey to predict high and low-quality analysts, then predict MAP estimates for your codes in question. What do these estimates suggest about the distribution of skill among your coders? How different are these estimates from a majority vote?"
   ]
  },
  {
   "cell_type": "code",
   "execution_count": 22,
   "metadata": {},
   "outputs": [
    {
     "name": "stdout",
     "output_type": "stream",
     "text": [
      "[[[0.74448486 0.07669807 0.07927934 0.09547691 0.00406081]\n",
      "  [0.4601914  0.45893932 0.03003506 0.03491507 0.01591915]\n",
      "  [0.06009832 0.03743023 0.69903848 0.17368654 0.02974643]\n",
      "  [0.01159411 0.05383249 0.19891807 0.41170859 0.32394673]\n",
      "  [0.00665132 0.00954015 0.12032865 0.35592091 0.50755897]]\n",
      "\n",
      " [[0.70590497 0.18506714 0.05099347 0.03160356 0.02643087]\n",
      "  [0.17340782 0.59566081 0.08047225 0.13315614 0.01730299]\n",
      "  [0.02758636 0.1183411  0.61683954 0.13792023 0.09931276]\n",
      "  [0.02160329 0.07004739 0.11620157 0.54687538 0.24527237]\n",
      "  [0.00313118 0.01557222 0.07635748 0.22334671 0.68159241]]\n",
      "\n",
      " [[0.69652968 0.14971611 0.09657884 0.02338085 0.03379451]\n",
      "  [0.17777055 0.59380521 0.1476282  0.07386297 0.00693308]\n",
      "  [0.15856097 0.15841471 0.54593869 0.03001528 0.10707036]\n",
      "  [0.02380394 0.07216773 0.14848181 0.66666063 0.0888859 ]\n",
      "  [0.0492665  0.09520259 0.08418926 0.20763042 0.56371124]]\n",
      "\n",
      " [[0.66674144 0.23097448 0.06610583 0.02446964 0.01170861]\n",
      "  [0.11263755 0.67132558 0.13880653 0.05111191 0.02611844]\n",
      "  [0.10212483 0.18740133 0.59219609 0.09099874 0.02727902]\n",
      "  [0.00117469 0.02279266 0.13608784 0.57033018 0.26961463]\n",
      "  [0.05716662 0.0081752  0.06590518 0.13751574 0.73123726]]\n",
      "\n",
      " [[0.78059238 0.14226743 0.07125273 0.00205754 0.00382991]\n",
      "  [0.17517102 0.61652607 0.15308914 0.04800619 0.00720758]\n",
      "  [0.00146857 0.17622203 0.57247334 0.12840422 0.12143185]\n",
      "  [0.13136602 0.03702896 0.16380848 0.47689071 0.19090583]\n",
      "  [0.0997222  0.02612517 0.01882395 0.14598774 0.70934095]]\n",
      "\n",
      " [[0.67867761 0.17393532 0.06843314 0.05363752 0.02531641]\n",
      "  [0.04404398 0.78772676 0.13968071 0.00733035 0.02121818]\n",
      "  [0.07171628 0.12605301 0.57191655 0.09204674 0.13826741]\n",
      "  [0.11408503 0.04398957 0.17661823 0.52932714 0.13598003]\n",
      "  [0.00434848 0.0327269  0.02399623 0.15247443 0.78645396]]]\n",
      "-109.92817953059722\n"
     ]
    }
   ],
   "source": [
    "# create a new instance of model B, with 5 label classes and 6 texts to annotate\n",
    "model = ModelB.create_initial_state(5,6)\n",
    "# other model parameters are initialized from the model prior\n",
    "print(model.theta)\n",
    "print(model.log_likelihood(anno.annotations))"
   ]
  },
  {
   "cell_type": "markdown",
   "metadata": {},
   "source": [
    "Predict the MAP(maximum a posteriori estimation) estimates:"
   ]
  },
  {
   "cell_type": "code",
   "execution_count": 32,
   "metadata": {},
   "outputs": [
    {
     "name": "stdout",
     "output_type": "stream",
     "text": [
      "[0.99999998 0.17899795 0.53174212 0.0800374  0.22976611 0.36849441]\n",
      "-70.86349181510991\n"
     ]
    }
   ],
   "source": [
    "model.map(anno.annotations)\n",
    "print(model.theta)\n",
    "print(model.log_likelihood(anno.annotations))"
   ]
  },
  {
   "cell_type": "markdown",
   "metadata": {},
   "source": [
    "Then we can make inferences about the true label classes.\n",
    "First, calculate the posterior distribution over the true label classes."
   ]
  },
  {
   "cell_type": "code",
   "execution_count": 24,
   "metadata": {},
   "outputs": [
    {
     "name": "stdout",
     "output_type": "stream",
     "text": [
      "[[0.00000000e+00 0.00000000e+00 5.95017305e-34 1.00000000e+00\n",
      "  0.00000000e+00]\n",
      " [0.00000000e+00 0.00000000e+00 1.31253817e-34 1.00000000e+00\n",
      "  0.00000000e+00]\n",
      " [0.00000000e+00 0.00000000e+00 4.46262979e-34 1.00000000e+00\n",
      "  0.00000000e+00]\n",
      " [0.00000000e+00 0.00000000e+00 1.67348617e-33 1.00000000e+00\n",
      "  0.00000000e+00]\n",
      " [0.00000000e+00 0.00000000e+00 6.69394468e-35 1.00000000e+00\n",
      "  0.00000000e+00]\n",
      " [0.00000000e+00 0.00000000e+00 4.46262979e-34 1.00000000e+00\n",
      "  0.00000000e+00]\n",
      " [0.00000000e+00 2.65076386e-57 3.96678203e-35 1.00000000e+00\n",
      "  0.00000000e+00]\n",
      " [0.00000000e+00 0.00000000e+00 5.90642178e-34 1.00000000e+00\n",
      "  0.00000000e+00]]\n"
     ]
    }
   ],
   "source": [
    "posterior = model.infer_labels(anno.annotations)\n",
    "print(posterior)"
   ]
  },
  {
   "cell_type": "markdown",
   "metadata": {},
   "source": [
    "Many posterior probabilities are zero--the model think nobody should choose them! And the rate of all questions with highest probabilities are the fourth one. \n",
    "\n",
    "We can also look at the means and standard errors of sample.(Btw, is this bootstrap?)"
   ]
  },
  {
   "cell_type": "code",
   "execution_count": 25,
   "metadata": {},
   "outputs": [
    {
     "name": "stdout",
     "output_type": "stream",
     "text": [
      "[[[0.66758818 0.16095447 0.0894996  0.03814785 0.0438099 ]\n",
      "  [0.15183513 0.59339673 0.13646624 0.07822038 0.04008152]\n",
      "  [0.06799232 0.15256131 0.56693955 0.13707359 0.07543323]\n",
      "  [0.02805379 0.05736452 0.1169108  0.54835144 0.24931944]\n",
      "  [0.03967797 0.0453874  0.08222224 0.17307143 0.65964096]]\n",
      "\n",
      " [[0.6621256  0.17361479 0.08381444 0.04177202 0.03867315]\n",
      "  [0.15356761 0.5895982  0.14974253 0.06871278 0.03837889]\n",
      "  [0.07206598 0.14084539 0.57387658 0.14519048 0.06802157]\n",
      "  [0.14274587 0.14340218 0.141766   0.45282716 0.11925879]\n",
      "  [0.04412932 0.04008918 0.08691794 0.15950172 0.66936184]]\n",
      "\n",
      " [[0.666802   0.17434872 0.07776589 0.04240454 0.03867885]\n",
      "  [0.14468349 0.5960282  0.14679738 0.07234433 0.0401466 ]\n",
      "  [0.07226968 0.13730221 0.57272889 0.14361448 0.07408473]\n",
      "  [0.03179081 0.05707844 0.11643949 0.53996542 0.25472584]\n",
      "  [0.04123036 0.04568378 0.0809725  0.16205036 0.67006301]]\n",
      "\n",
      " [[0.65639241 0.17108743 0.08447714 0.04471516 0.04332786]\n",
      "  [0.15384833 0.58831784 0.1466564  0.07659342 0.03458401]\n",
      "  [0.07785092 0.13550475 0.57866472 0.13511939 0.07286021]\n",
      "  [0.18501401 0.08173596 0.15781546 0.46105345 0.11438113]\n",
      "  [0.04289119 0.04155323 0.08699718 0.17098263 0.65757577]]\n",
      "\n",
      " [[0.66721506 0.16497602 0.08337295 0.04132143 0.04311454]\n",
      "  [0.15118552 0.59514533 0.14651923 0.07793886 0.02921106]\n",
      "  [0.07520881 0.14458306 0.5601585  0.14750691 0.07254272]\n",
      "  [0.02761321 0.17040713 0.16516262 0.52662562 0.11019142]\n",
      "  [0.04211292 0.0395903  0.08483078 0.16172522 0.67174078]]\n",
      "\n",
      " [[0.65732725 0.17260025 0.0865079  0.04231207 0.04125253]\n",
      "  [0.15691434 0.5853133  0.14561417 0.07470885 0.03744934]\n",
      "  [0.07527007 0.14173617 0.56931689 0.14436008 0.06931679]\n",
      "  [0.03249667 0.05877996 0.16381518 0.60870638 0.13620181]\n",
      "  [0.04645253 0.04245155 0.07896511 0.15878848 0.67334233]]]\n",
      "[[[0.08240177 0.06784416 0.05423832 0.0406145  0.03700575]\n",
      "  [0.06436994 0.08422744 0.05592253 0.05253033 0.03600777]\n",
      "  [0.04777169 0.06778722 0.09035249 0.06256524 0.05201965]\n",
      "  [0.02382241 0.03692661 0.051818   0.09364042 0.07765967]\n",
      "  [0.0384624  0.04179254 0.04935917 0.06989456 0.09704037]]\n",
      "\n",
      " [[0.09449036 0.07177482 0.05645314 0.04182755 0.03421257]\n",
      "  [0.07117424 0.10210212 0.06731425 0.04327674 0.03493501]\n",
      "  [0.04802096 0.06015304 0.08206106 0.06396858 0.04847939]\n",
      "  [0.06102156 0.05544239 0.05774979 0.08200056 0.05665231]\n",
      "  [0.04082797 0.04036893 0.05842849 0.07670719 0.09799287]]\n",
      "\n",
      " [[0.09054544 0.0757105  0.05236797 0.04019271 0.03709926]\n",
      "  [0.06337627 0.09412698 0.06879924 0.04693879 0.04086957]\n",
      "  [0.0457547  0.06007527 0.08875791 0.06393674 0.04784894]\n",
      "  [0.02643924 0.03710919 0.05087446 0.08360955 0.07491475]\n",
      "  [0.04026523 0.04299715 0.0503386  0.07371767 0.09016758]]\n",
      "\n",
      " [[0.09256548 0.07841531 0.05514189 0.03994368 0.04478559]\n",
      "  [0.06909015 0.08097802 0.05463785 0.0500968  0.03618059]\n",
      "  [0.05516413 0.05626151 0.09188101 0.06000075 0.04722014]\n",
      "  [0.0673216  0.04084621 0.06319846 0.08540819 0.05405945]\n",
      "  [0.04230879 0.03739764 0.05838745 0.07139605 0.09405256]]\n",
      "\n",
      " [[0.08718041 0.07019794 0.05659238 0.0390778  0.0376916 ]\n",
      "  [0.06851905 0.09935061 0.06600277 0.04806891 0.02867236]\n",
      "  [0.04660929 0.06433384 0.09137782 0.06546502 0.05224374]\n",
      "  [0.02605028 0.06171941 0.06084511 0.09318449 0.04734367]\n",
      "  [0.04286605 0.03575376 0.05557677 0.07600002 0.0949226 ]]\n",
      "\n",
      " [[0.09128677 0.07614173 0.05387918 0.04159016 0.04238139]\n",
      "  [0.07481642 0.09770199 0.06438788 0.04757888 0.03917628]\n",
      "  [0.04883169 0.06269606 0.0889324  0.06118944 0.04865321]\n",
      "  [0.0309269  0.03638055 0.05955971 0.07521804 0.05729014]\n",
      "  [0.04216045 0.03702538 0.05416372 0.07389277 0.08912418]]]\n"
     ]
    }
   ],
   "source": [
    "samples = model.sample_posterior_over_accuracy(anno.annotations, 200, burn_in_samples=100, thin_samples=3)\n",
    "print(samples[0].mean(axis=0))\n",
    "print(samples[0].std(axis=0))"
   ]
  },
  {
   "cell_type": "markdown",
   "metadata": {},
   "source": [
    "Finally, draw heatmaps to compare the model prediction and actual voter behaviors."
   ]
  },
  {
   "cell_type": "code",
   "execution_count": 26,
   "metadata": {},
   "outputs": [
    {
     "data": {
      "image/png": "[encoded data removed]",
      "text/plain": [
       "<Figure size 1080x720 with 4 Axes>"
      ]
     },
     "metadata": {
      "needs_background": "light"
     },
     "output_type": "display_data"
    }
   ],
   "source": [
    "votes = []\n",
    "for r in anno.annotations:\n",
    "    v = [0] * len(anno.labels)\n",
    "    votes.append(v)\n",
    "    for a in r:\n",
    "        if a > -1:\n",
    "            v[a] += 1\n",
    "votes_array = np.array(votes)\n",
    "\n",
    "fig, (ax1, ax2) = plt.subplots(ncols=2, figsize = (15, 10), sharey=True)\n",
    "num_questions = 6\n",
    "\n",
    "seaborn.heatmap(votes_array[:num_questions], annot = True, ax=ax2)\n",
    "seaborn.heatmap(posterior[:num_questions], annot=True, ax =ax1)\n",
    "ax1.set_title(\"Model\")\n",
    "ax2.set_title(\"Votes\")\n",
    "plt.show()"
   ]
  },
  {
   "cell_type": "markdown",
   "metadata": {},
   "source": [
    "From the above two graphs, we found that the model predicts for all questions (texts needed to be annotated) is 3. In my scale, this refers to  relatively high anxiety. I think this may results from the number of my questions and participants are small (6 and 8 respectively...) "
   ]
  },
  {
   "cell_type": "markdown",
   "metadata": {},
   "source": [
    "Lastly, can also look at ModelBt. To sum up, they are telling the same thing."
   ]
  },
  {
   "cell_type": "code",
   "execution_count": 27,
   "metadata": {},
   "outputs": [
    {
     "name": "stdout",
     "output_type": "stream",
     "text": [
      "[0.8634146  0.81906861 0.67174439 0.61777856 0.65585897 0.7830246 ]\n",
      "-99.64697222111573\n"
     ]
    }
   ],
   "source": [
    "# create a new instance of model B, with 5 label classes and 6 texts to annotate\n",
    "model = ModelBt.create_initial_state(5,6)\n",
    "# other model parameters are initialized from the model prior\n",
    "print(model.theta)\n",
    "print(model.log_likelihood(anno.annotations))"
   ]
  },
  {
   "cell_type": "code",
   "execution_count": 28,
   "metadata": {},
   "outputs": [
    {
     "name": "stdout",
     "output_type": "stream",
     "text": [
      "[[6.67639862e-01 5.69147551e-02 8.21347443e-02 1.38194331e-02\n",
      "  1.79491205e-01]\n",
      " [7.81488644e-02 3.65280807e-02 4.30586292e-03 2.46266673e-01\n",
      "  6.34750519e-01]\n",
      " [4.14380173e-02 1.51942854e-01 4.87482538e-02 6.92566388e-01\n",
      "  6.53044864e-02]\n",
      " [1.58692554e-02 3.21344975e-03 3.38051601e-01 1.04892371e-02\n",
      "  6.32376456e-01]\n",
      " [1.43643873e-02 4.01515599e-01 2.21673205e-03 9.49455160e-03\n",
      "  5.72408730e-01]\n",
      " [2.93129790e-01 2.49886371e-02 3.60615682e-02 7.41235227e-04\n",
      "  6.45078769e-01]\n",
      " [1.15478280e-01 9.84425645e-03 9.84147172e-04 8.72465521e-01\n",
      "  1.22779576e-03]\n",
      " [3.03687686e-03 7.19923386e-02 1.95888458e-02 8.09800792e-01\n",
      "  9.55811463e-02]]\n"
     ]
    },
    {
     "data": {
      "text/plain": [
       "<function matplotlib.pyplot.show(close=None, block=None)>"
      ]
     },
     "execution_count": 28,
     "metadata": {},
     "output_type": "execute_result"
    },
    {
     "data": {
      "image/png": "[encoded data removed]",
      "text/plain": [
       "<Figure size 432x288 with 2 Axes>"
      ]
     },
     "metadata": {
      "needs_background": "light"
     },
     "output_type": "display_data"
    }
   ],
   "source": [
    "posterior = model.infer_labels(anno.annotations)\n",
    "print(posterior)\n",
    "ax = seaborn.heatmap(posterior[:10,])\n",
    "plt.show"
   ]
  },
  {
   "cell_type": "code",
   "execution_count": 31,
   "metadata": {},
   "outputs": [
    {
     "data": {
      "image/png": "[encoded data removed]",
      "text/plain": [
       "<Figure size 432x288 with 1 Axes>"
      ]
     },
     "metadata": {
      "needs_background": "light"
     },
     "output_type": "display_data"
    }
   ],
   "source": [
    "# Visualize the coder accuracy\n",
    "model = ModelBt.create_initial_state(5, 6)\n",
    "model.mle(anno.annotations)\n",
    "samples = model.sample_posterior_over_accuracy(anno.annotations, 200, burn_in_samples=100, thin_samples=3)\n",
    "y =  samples.mean(axis=0)#.mean(axis = 1).mean(axis = 1)\n",
    "y_ci = samples.std(axis=0)#.mean(axis = 1).mean(axis = 1)\n",
    "plt.figure()\n",
    "plt.errorbar(range(6),y, yerr = y_ci)\n",
    "plt.show()"
   ]
  },
  {
   "cell_type": "markdown",
   "metadata": {},
   "source": [
    "In this graph, we can see that for the second people annotate less accurately and third person annotate more accurately.\n",
    "For other workers, though the capability of coders differs from one to another, there is no significant difference in abbility for other workers except for the second and third one."
   ]
  },
  {
   "cell_type": "code",
   "execution_count": null,
   "metadata": {},
   "outputs": [],
   "source": []
  }
 ],
 "metadata": {
  "anaconda-cloud": {},
  "kernelspec": {
   "display_name": "Python 3",
   "language": "python",
   "name": "python3"
  },
  "language_info": {
   "codemirror_mode": {
    "name": "ipython",
    "version": 3
   },
   "file_extension": ".py",
   "mimetype": "text/x-python",
   "name": "python",
   "nbconvert_exporter": "python",
   "pygments_lexer": "ipython3",
   "version": "3.8.6"
  },
  "toc": {
   "base_numbering": 1,
   "nav_menu": {},
   "number_sections": false,
   "sideBar": true,
   "skip_h1_title": false,
   "title_cell": "Table of Contents",
   "title_sidebar": "Contents",
   "toc_cell": false,
   "toc_position": {},
   "toc_section_display": true,
   "toc_window_display": false
  }
 },
 "nbformat": 4,
 "nbformat_minor": 1
}
